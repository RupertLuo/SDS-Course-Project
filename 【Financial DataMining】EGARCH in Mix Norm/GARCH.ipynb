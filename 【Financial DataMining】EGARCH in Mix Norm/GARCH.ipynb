{
 "cells": [
  {
   "cell_type": "code",
   "execution_count": 1,
   "metadata": {},
   "outputs": [],
   "source": [
    "from itertools import islice \n",
    "file = open(\"./w.txt\",\"r\")\n",
    "series = []\n",
    "for line in islice(file,2,None):\n",
    "    series.append(float(line.strip()))\n",
    "# series"
   ]
  },
  {
   "cell_type": "code",
   "execution_count": 2,
   "metadata": {},
   "outputs": [],
   "source": [
    "from scipy import  stats\n",
    "import statsmodels.api as sm  # 统计相关的库\n",
    "import numpy as np\n",
    "import pandas as pd\n",
    "import matplotlib.pyplot as plt\n",
    "import arch  # 条件异方差模型相关的库"
   ]
  },
  {
   "cell_type": "markdown",
   "metadata": {},
   "source": [
    "检验序列是否平稳"
   ]
  },
  {
   "cell_type": "code",
   "execution_count": 11,
   "metadata": {},
   "outputs": [
    {
     "name": "stdout",
     "output_type": "stream",
     "text": [
      "2.9952341805272995e-16\n"
     ]
    }
   ],
   "source": [
    "t = sm.tsa.stattools.adfuller(series)\n",
    "print(t[1])"
   ]
  },
  {
   "cell_type": "markdown",
   "metadata": {},
   "source": [
    "p值小于显著水平，拒绝原假设，因此序列平稳"
   ]
  },
  {
   "cell_type": "code",
   "execution_count": 29,
   "metadata": {},
   "outputs": [
    {
     "name": "stdout",
     "output_type": "stream",
     "text": [
      "Iteration:      1,   Func. Count:      7,   Neg. LLF: 10599.486900670443\n",
      "Iteration:      2,   Func. Count:     18,   Neg. LLF: 10598.879991242069\n",
      "Iteration:      3,   Func. Count:     29,   Neg. LLF: 10598.81449432745\n",
      "Iteration:      4,   Func. Count:     39,   Neg. LLF: 10598.759362711015\n",
      "Iteration:      5,   Func. Count:     47,   Neg. LLF: 10595.252454443655\n",
      "Iteration:      6,   Func. Count:     54,   Neg. LLF: 10581.453383399323\n",
      "Iteration:      7,   Func. Count:     62,   Neg. LLF: 10580.688333173815\n",
      "Iteration:      8,   Func. Count:     72,   Neg. LLF: 10580.002820071097\n",
      "Iteration:      9,   Func. Count:     79,   Neg. LLF: 10579.688141960183\n",
      "Iteration:     10,   Func. Count:     87,   Neg. LLF: 10579.481135590613\n",
      "Iteration:     11,   Func. Count:     94,   Neg. LLF: 10579.458803948517\n",
      "Iteration:     12,   Func. Count:    101,   Neg. LLF: 10579.455546314755\n",
      "Iteration:     13,   Func. Count:    108,   Neg. LLF: 10579.455306715434\n",
      "Iteration:     14,   Func. Count:    115,   Neg. LLF: 10579.455162027984\n",
      "Iteration:     15,   Func. Count:    122,   Neg. LLF: 10579.455154181884\n",
      "Optimization terminated successfully.    (Exit mode 0)\n",
      "            Current function value: 10579.455154181904\n",
      "            Iterations: 15\n",
      "            Function evaluations: 122\n",
      "            Gradient evaluations: 15\n"
     ]
    },
    {
     "data": {
      "text/plain": [
       "<bound method ARCHModelResult.summary of                           Zero Mean - EGARCH Model Results                          \n",
       "====================================================================================\n",
       "Dep. Variable:                            y   R-squared:                       0.000\n",
       "Mean Model:                       Zero Mean   Adj. R-squared:                  0.000\n",
       "Vol Model:                           EGARCH   Log-Likelihood:               -10579.5\n",
       "Distribution:      Standardized Student's t   AIC:                           21168.9\n",
       "Method:                  Maximum Likelihood   BIC:                           21197.2\n",
       "                                              No. Observations:                 2133\n",
       "Date:                      Sun, May 05 2019   Df Residuals:                     2128\n",
       "Time:                              20:52:15   Df Model:                            5\n",
       "                              Volatility Model                              \n",
       "============================================================================\n",
       "                 coef    std err          t      P>|t|      95.0% Conf. Int.\n",
       "----------------------------------------------------------------------------\n",
       "omega          0.0302  1.435e-02      2.107  3.509e-02 [2.114e-03,5.836e-02]\n",
       "alpha[1]       0.1243  2.760e-02      4.505  6.630e-06   [7.024e-02,  0.178]\n",
       "gamma[1]       0.0241  1.139e-02      2.112  3.466e-02 [1.736e-03,4.640e-02]\n",
       "beta[1]        0.9973  1.798e-03    554.747      0.000     [  0.994,  1.001]\n",
       "                              Distribution                              \n",
       "========================================================================\n",
       "                 coef    std err          t      P>|t|  95.0% Conf. Int.\n",
       "------------------------------------------------------------------------\n",
       "nu             4.4595      0.445     10.023  1.209e-23 [  3.587,  5.332]\n",
       "========================================================================\n",
       "\n",
       "Covariance estimator: robust\n",
       "ARCHModelResult, id: 0x26c0e5f8c18>"
      ]
     },
     "execution_count": 29,
     "metadata": {},
     "output_type": "execute_result"
    }
   ],
   "source": [
    "am = arch.arch_model(series, mean='zero', p=1, o=1, q=1, dist='StudentsT',vol = \"EGARCH\")\n",
    "res = am.fit()\n",
    "res.summary"
   ]
  },
  {
   "cell_type": "code",
   "execution_count": 19,
   "metadata": {},
   "outputs": [
    {
     "data": {
      "text/plain": [
       "<bound method ARCHModelResult.summary of                           Zero Mean - EGARCH Model Results                          \n",
       "====================================================================================\n",
       "Dep. Variable:                            y   R-squared:                       0.000\n",
       "Mean Model:                       Zero Mean   Adj. R-squared:                  0.000\n",
       "Vol Model:                           EGARCH   Log-Likelihood:               -10579.5\n",
       "Distribution:      Standardized Student's t   AIC:                           21168.9\n",
       "Method:                  Maximum Likelihood   BIC:                           21197.2\n",
       "                                              No. Observations:                 2133\n",
       "Date:                      Sun, May 05 2019   Df Residuals:                     2128\n",
       "Time:                              17:09:10   Df Model:                            5\n",
       "                              Volatility Model                              \n",
       "============================================================================\n",
       "                 coef    std err          t      P>|t|      95.0% Conf. Int.\n",
       "----------------------------------------------------------------------------\n",
       "omega          0.0302  1.435e-02      2.107  3.509e-02 [2.114e-03,5.836e-02]\n",
       "alpha[1]       0.1243  2.760e-02      4.505  6.630e-06   [7.024e-02,  0.178]\n",
       "gamma[1]       0.0241  1.139e-02      2.112  3.466e-02 [1.736e-03,4.640e-02]\n",
       "beta[1]        0.9973  1.798e-03    554.747      0.000     [  0.994,  1.001]\n",
       "                              Distribution                              \n",
       "========================================================================\n",
       "                 coef    std err          t      P>|t|  95.0% Conf. Int.\n",
       "------------------------------------------------------------------------\n",
       "nu             4.4595      0.445     10.023  1.209e-23 [  3.587,  5.332]\n",
       "========================================================================\n",
       "\n",
       "Covariance estimator: robust\n",
       "ARCHModelResult, id: 0x26c0e6de898>"
      ]
     },
     "execution_count": 19,
     "metadata": {},
     "output_type": "execute_result"
    }
   ],
   "source": [
    "res.summary"
   ]
  },
  {
   "cell_type": "code",
   "execution_count": null,
   "metadata": {},
   "outputs": [],
   "source": []
  }
 ],
 "metadata": {
  "kernelspec": {
   "display_name": "Python 3",
   "language": "python",
   "name": "python3"
  },
  "language_info": {
   "codemirror_mode": {
    "name": "ipython",
    "version": 3
   },
   "file_extension": ".py",
   "mimetype": "text/x-python",
   "name": "python",
   "nbconvert_exporter": "python",
   "pygments_lexer": "ipython3",
   "version": "3.7.1"
  }
 },
 "nbformat": 4,
 "nbformat_minor": 2
}
